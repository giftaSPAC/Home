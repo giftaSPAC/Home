{
  "cells": [
    {
      "cell_type": "code",
      "execution_count": 49,
      "metadata": {
        "colab": {
          "base_uri": "https://localhost:8080/"
        },
        "id": "NoiL3zUNNqIb",
        "outputId": "94cf8a50-1ed8-4f60-83db-bc7b1f372e1d"
      },
      "outputs": [
        {
          "output_type": "stream",
          "name": "stdout",
          "text": [
            "\n",
            "Order details for mobile number 1234567890:\n",
            "\n",
            "User Name: Abhinav\n",
            "Address: Adk\n",
            "Gender: M\n",
            "Mobile: 1234567890\n",
            "Occasion: Birthday\n",
            "Total Price: 20000\n",
            "Items:\n",
            "  - Item: Graphic T-shirt\n",
            "    Price: 800\n",
            "    Category: Clothing\n",
            "    Gender: M\n",
            "------------------------------\n",
            "User Name: Abhinav\n",
            "Address: Adk\n",
            "Gender: M\n",
            "Mobile: 1234567890\n",
            "Occasion: Birthday\n",
            "Total Price: 20000\n",
            "Items:\n",
            "  - Item: Graphic T-shirt\n",
            "    Price: 800\n",
            "    Category: Clothing\n",
            "    Gender: M\n",
            "------------------------------\n"
          ]
        }
      ],
      "source": [
        "import json\n",
        "def load_order_details():\n",
        "    try:\n",
        "        with open(\"order_details.json\", \"r\") as order_file:\n",
        "            orders = json.load(order_file)\n",
        "            return orders\n",
        "    except (FileNotFoundError, ValueError):\n",
        "        return []\n",
        "def retrieve_order_details_by_mobile(mobile_number):\n",
        "    orders = load_order_details()\n",
        "    if orders:\n",
        "        matching_orders = [order for order in orders if str(order.get(\"mobile\")) == str(mobile_number)]\n",
        "\n",
        "        if matching_orders:\n",
        "            print(f\"\\nOrder details for mobile number {mobile_number}:\\n\")\n",
        "            for order in matching_orders:\n",
        "                print(f\"User Name: {order['user_name']}\")\n",
        "                print(f\"Address: {order['address']}\")\n",
        "                print(f\"Gender: {order['gender']}\")\n",
        "                print(f\"Mobile: {order['mobile']}\")\n",
        "                print(f\"Occasion: {order['occasion']}\")\n",
        "                print(f\"Total Price: {order['total_price']}\")\n",
        "\n",
        "                print(\"Items:\")\n",
        "                for item in order.get(\"items\", []):\n",
        "                    print(f\"  - Item: {item['item']}\")\n",
        "                    print(f\"    Price: {item['price']}\")\n",
        "                    print(f\"    Category: {item['category']}\")\n",
        "                    print(f\"    Gender: {item['gender']}\")\n",
        "                print(\"-\" * 30)\n",
        "        else:\n",
        "            print(f\"No orders found for mobile number {mobile_number}\")\n",
        "    else:\n",
        "        print(\"No orders loaded.\")\n",
        "mobile_number_to_search = \"1234567890\"\n",
        "retrieve_order_details_by_mobile(mobile_number_to_search)\n"
      ]
    }
  ],
  "metadata": {
    "colab": {
      "provenance": []
    },
    "kernelspec": {
      "display_name": "Python 3",
      "name": "python3"
    },
    "language_info": {
      "name": "python"
    }
  },
  "nbformat": 4,
  "nbformat_minor": 0
}